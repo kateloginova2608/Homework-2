{
  "metadata": {
    "kernelspec": {
      "language": "python",
      "display_name": "Python 3",
      "name": "python3"
    },
    "language_info": {
      "name": "python",
      "version": "3.7.12",
      "mimetype": "text/x-python",
      "codemirror_mode": {
        "name": "ipython",
        "version": 3
      },
      "pygments_lexer": "ipython3",
      "nbconvert_exporter": "python",
      "file_extension": ".py"
    },
    "colab": {
      "provenance": []
    }
  },
  "nbformat_minor": 0,
  "nbformat": 4,
  "cells": [
    {
      "cell_type": "code",
      "source": [
        "# This Python 3 environment comes with many helpful analytics libraries installed\n",
        "# It is defined by the kaggle/python Docker image: https://github.com/kaggle/docker-python\n",
        "# For example, here's several helpful packages to load\n",
        "%matplotlib inline\n",
        "import matplotlib.pyplot as plt\n",
        "import numpy as np # linear algebra\n",
        "import pandas as pd # data processing, CSV file I/O (e.g. pd.read_csv)\n",
        "import pandas_profiling\n",
        "from scipy import stats\n",
        "from sklearn import metrics\n",
        "from sklearn.utils import shuffle\n",
        "from sklearn import preprocessing\n",
        "from sklearn.preprocessing import LabelEncoder\n",
        "from sklearn.linear_model import LinearRegression\n",
        "from sklearn.linear_model import LogisticRegression\n",
        "from sklearn. model_selection import train_test_split\n",
        "\n",
        "\n",
        "\n",
        "\n",
        "# Input data files are available in the read-only \"../input/\" directory\n",
        "# For example, running this (by clicking run or pressing Shift+Enter) will list all files under the input directory\n",
        "\n",
        "import os\n",
        "for dirname, _, filenames in os.walk('/kaggle/input'):\n",
        "    for filename in filenames:\n",
        "        print(os.path.join(dirname, filename))\n",
        "\n",
        "# You can write up to 20GB to the current directory (/kaggle/working/) that gets preserved as output when you create a version using \"Save & Run All\" \n",
        "# You can also write temporary files to /kaggle/temp/, but they won't be saved outside of the current session"
      ],
      "metadata": {
        "_uuid": "8f2839f25d086af736a60e9eeb907d3b93b6e0e5",
        "_cell_guid": "b1076dfc-b9ad-4769-8c92-a6c4dae69d19",
        "execution": {
          "iopub.status.busy": "2022-12-14T19:41:54.436810Z",
          "iopub.execute_input": "2022-12-14T19:41:54.437266Z",
          "iopub.status.idle": "2022-12-14T19:41:57.259147Z",
          "shell.execute_reply.started": "2022-12-14T19:41:54.437154Z",
          "shell.execute_reply": "2022-12-14T19:41:57.257781Z"
        },
        "trusted": true,
        "id": "vbF0CKNoVCo-",
        "outputId": "cb977cd3-6b83-4a94-d66d-3ccdbf04ad54"
      },
      "execution_count": null,
      "outputs": [
        {
          "name": "stdout",
          "text": "/kaggle/input/fashion-ecommerce-data/Fashion Data.csv\n",
          "output_type": "stream"
        }
      ]
    },
    {
      "cell_type": "markdown",
      "source": [
        "Загружаем датасет и смотрим первые 5 строк."
      ],
      "metadata": {
        "id": "kuTvRPAvVCpC"
      }
    },
    {
      "cell_type": "code",
      "source": [
        "dataset = pd.read_csv('/kaggle/input/fashion-ecommerce-data/Fashion Data.csv')\n",
        "dataset.head()"
      ],
      "metadata": {
        "execution": {
          "iopub.status.busy": "2022-12-14T19:41:57.260898Z",
          "iopub.execute_input": "2022-12-14T19:41:57.261262Z",
          "iopub.status.idle": "2022-12-14T19:42:04.330137Z",
          "shell.execute_reply.started": "2022-12-14T19:41:57.261230Z",
          "shell.execute_reply": "2022-12-14T19:42:04.328939Z"
        },
        "trusted": true,
        "id": "fR9Ihi0ZVCpD",
        "outputId": "cefb20e7-9dbd-41db-8420-e93e3a487ef9"
      },
      "execution_count": null,
      "outputs": [
        {
          "name": "stderr",
          "text": "/opt/conda/lib/python3.7/site-packages/IPython/core/interactiveshell.py:3552: DtypeWarning: Columns (6,7,10,12) have mixed types.Specify dtype option on import or set low_memory=False.\n  exec(code_obj, self.user_global_ns, self.user_ns)\n",
          "output_type": "stream"
        },
        {
          "execution_count": 2,
          "output_type": "execute_result",
          "data": {
            "text/plain": "                                   uuid  \\\n0                                     0   \n1  00000fcc-8f4d-4174-9e34-8179d398a88d   \n2  00009f57-a987-4416-88b8-2fe607d6f0de   \n3  0000cb86-fd3b-43e9-b0c1-355339650d8b   \n4  00018050-b693-408b-a594-adc6e7b53946   \n\n                                                 url  \\\n0  https://trends.ajio.com/dnmx-knitted-crew-neck...   \n1  https://ajiobusiness.com/storefront/ProductDet...   \n2  https://trends.ajio.com/hunters-bay-lace-up-ca...   \n3  https://ajiobusiness.com/storefront/ProductDet...   \n4     https://www.bijnis.com/product/KAYRISE/1071022   \n\n                                       title        brand  \\\n0                 Knitted Crew-Neck Pullover         DNMX   \n1               Brasso Printed Regular Saree      JUSTVVV   \n2  Lace-Up Casual Shoes with Contrast Panels  HUNTERS BAY   \n3             Art Silk Printed Regular Saree       VOOLKA   \n4                              Kangarooz 232    Kangarooz   \n\n                                              images date_stored  \\\n0  https://assets.ajio.com/medias/sys_master/root...  07-06-2022   \n1  ~^https://assets.ajio.com/b2b/medias/sys_maste...  28-09-2022   \n2  https://assets.ajio.com/medias/sys_master/root...  16-07-2022   \n3  ~^https://assets.ajio.com/b2b/medias/sys_maste...  28-09-2022   \n4  https://ik.imagekit.io/shoekonnect/tr:w-500,tr...  24-07-2022   \n\n  selling_price star_rating                 size         colour   mrp  \\\n0           624         0.0                  NaN  green,mustard  1299   \n1           576         0.0                  NaN            NaN  1499   \n2           909         0.0                  NaN            tan  1299   \n3           285         0.0                  NaN            NaN   560   \n4           130         0.0  7/3, 8/3, 9/3, 10/3            NaN   499   \n\n                                     product_detials set_product_price  \\\n0  Machine washable; Flat dry,Ribbed hems,Regular...               0.0   \n1  {\"Length of Saree(UOM)\":\"mtr\",\"Packaging Type\"...           3459.16   \n2                         Product Code: 458005708001               0.0   \n3  {\"Length of Saree(UOM)\":\"mtr\",\"Packaging Type\"...            571.42   \n4  {\"Category\":\"Men PVC Slippers\",\"Color\":\"Multic...               0.0   \n\n                                           meta_data              category  \\\n0  Buy Green Sweaters & Cardigans for Men by DNMX...  Sweaters & Cardigans   \n1                                                NaN                Sarees   \n2  Buy Brown Casual Shoes for Men by HUNTERS BAY ...          Casual Shoes   \n3                                                NaN                Sarees   \n4  {\"moq\":\"12 Pairs\",\"achievements\":[\"38 Likes\"],...          men_Slippers   \n\n  product_code   competitor  \n0     4.41E+11  Ajio-Trends  \n1    464883623       Ajio_b  \n2          NaN  Ajio-Trends  \n3    464902247       Ajio_b  \n4      1071022       bijnis  ",
            "text/html": "<div>\n<style scoped>\n    .dataframe tbody tr th:only-of-type {\n        vertical-align: middle;\n    }\n\n    .dataframe tbody tr th {\n        vertical-align: top;\n    }\n\n    .dataframe thead th {\n        text-align: right;\n    }\n</style>\n<table border=\"1\" class=\"dataframe\">\n  <thead>\n    <tr style=\"text-align: right;\">\n      <th></th>\n      <th>uuid</th>\n      <th>url</th>\n      <th>title</th>\n      <th>brand</th>\n      <th>images</th>\n      <th>date_stored</th>\n      <th>selling_price</th>\n      <th>star_rating</th>\n      <th>size</th>\n      <th>colour</th>\n      <th>mrp</th>\n      <th>product_detials</th>\n      <th>set_product_price</th>\n      <th>meta_data</th>\n      <th>category</th>\n      <th>product_code</th>\n      <th>competitor</th>\n    </tr>\n  </thead>\n  <tbody>\n    <tr>\n      <th>0</th>\n      <td>0</td>\n      <td>https://trends.ajio.com/dnmx-knitted-crew-neck...</td>\n      <td>Knitted Crew-Neck Pullover</td>\n      <td>DNMX</td>\n      <td>https://assets.ajio.com/medias/sys_master/root...</td>\n      <td>07-06-2022</td>\n      <td>624</td>\n      <td>0.0</td>\n      <td>NaN</td>\n      <td>green,mustard</td>\n      <td>1299</td>\n      <td>Machine washable; Flat dry,Ribbed hems,Regular...</td>\n      <td>0.0</td>\n      <td>Buy Green Sweaters &amp; Cardigans for Men by DNMX...</td>\n      <td>Sweaters &amp; Cardigans</td>\n      <td>4.41E+11</td>\n      <td>Ajio-Trends</td>\n    </tr>\n    <tr>\n      <th>1</th>\n      <td>00000fcc-8f4d-4174-9e34-8179d398a88d</td>\n      <td>https://ajiobusiness.com/storefront/ProductDet...</td>\n      <td>Brasso Printed Regular Saree</td>\n      <td>JUSTVVV</td>\n      <td>~^https://assets.ajio.com/b2b/medias/sys_maste...</td>\n      <td>28-09-2022</td>\n      <td>576</td>\n      <td>0.0</td>\n      <td>NaN</td>\n      <td>NaN</td>\n      <td>1499</td>\n      <td>{\"Length of Saree(UOM)\":\"mtr\",\"Packaging Type\"...</td>\n      <td>3459.16</td>\n      <td>NaN</td>\n      <td>Sarees</td>\n      <td>464883623</td>\n      <td>Ajio_b</td>\n    </tr>\n    <tr>\n      <th>2</th>\n      <td>00009f57-a987-4416-88b8-2fe607d6f0de</td>\n      <td>https://trends.ajio.com/hunters-bay-lace-up-ca...</td>\n      <td>Lace-Up Casual Shoes with Contrast Panels</td>\n      <td>HUNTERS BAY</td>\n      <td>https://assets.ajio.com/medias/sys_master/root...</td>\n      <td>16-07-2022</td>\n      <td>909</td>\n      <td>0.0</td>\n      <td>NaN</td>\n      <td>tan</td>\n      <td>1299</td>\n      <td>Product Code: 458005708001</td>\n      <td>0.0</td>\n      <td>Buy Brown Casual Shoes for Men by HUNTERS BAY ...</td>\n      <td>Casual Shoes</td>\n      <td>NaN</td>\n      <td>Ajio-Trends</td>\n    </tr>\n    <tr>\n      <th>3</th>\n      <td>0000cb86-fd3b-43e9-b0c1-355339650d8b</td>\n      <td>https://ajiobusiness.com/storefront/ProductDet...</td>\n      <td>Art Silk Printed Regular Saree</td>\n      <td>VOOLKA</td>\n      <td>~^https://assets.ajio.com/b2b/medias/sys_maste...</td>\n      <td>28-09-2022</td>\n      <td>285</td>\n      <td>0.0</td>\n      <td>NaN</td>\n      <td>NaN</td>\n      <td>560</td>\n      <td>{\"Length of Saree(UOM)\":\"mtr\",\"Packaging Type\"...</td>\n      <td>571.42</td>\n      <td>NaN</td>\n      <td>Sarees</td>\n      <td>464902247</td>\n      <td>Ajio_b</td>\n    </tr>\n    <tr>\n      <th>4</th>\n      <td>00018050-b693-408b-a594-adc6e7b53946</td>\n      <td>https://www.bijnis.com/product/KAYRISE/1071022</td>\n      <td>Kangarooz 232</td>\n      <td>Kangarooz</td>\n      <td>https://ik.imagekit.io/shoekonnect/tr:w-500,tr...</td>\n      <td>24-07-2022</td>\n      <td>130</td>\n      <td>0.0</td>\n      <td>7/3, 8/3, 9/3, 10/3</td>\n      <td>NaN</td>\n      <td>499</td>\n      <td>{\"Category\":\"Men PVC Slippers\",\"Color\":\"Multic...</td>\n      <td>0.0</td>\n      <td>{\"moq\":\"12 Pairs\",\"achievements\":[\"38 Likes\"],...</td>\n      <td>men_Slippers</td>\n      <td>1071022</td>\n      <td>bijnis</td>\n    </tr>\n  </tbody>\n</table>\n</div>"
          },
          "metadata": {}
        }
      ]
    },
    {
      "cell_type": "markdown",
      "source": [
        "Смотрим какие переменные нам даны"
      ],
      "metadata": {
        "id": "AH5FpctbVCpE"
      }
    },
    {
      "cell_type": "code",
      "source": [
        "dataset.info()"
      ],
      "metadata": {
        "execution": {
          "iopub.status.busy": "2022-12-14T19:42:04.331422Z",
          "iopub.execute_input": "2022-12-14T19:42:04.331722Z",
          "iopub.status.idle": "2022-12-14T19:42:04.535202Z",
          "shell.execute_reply.started": "2022-12-14T19:42:04.331695Z",
          "shell.execute_reply": "2022-12-14T19:42:04.533980Z"
        },
        "trusted": true,
        "id": "eBC6h6TWVCpF",
        "outputId": "689b9047-9a91-4865-d4cf-304de28254d9"
      },
      "execution_count": null,
      "outputs": [
        {
          "name": "stdout",
          "text": "<class 'pandas.core.frame.DataFrame'>\nRangeIndex: 194242 entries, 0 to 194241\nData columns (total 17 columns):\n #   Column             Non-Null Count   Dtype \n---  ------             --------------   ----- \n 0   uuid               194242 non-null  object\n 1   url                194240 non-null  object\n 2   title              194240 non-null  object\n 3   brand              194242 non-null  object\n 4   images             194198 non-null  object\n 5   date_stored        194241 non-null  object\n 6   selling_price      194241 non-null  object\n 7   star_rating        192997 non-null  object\n 8   size               77764 non-null   object\n 9   colour             56734 non-null   object\n 10  mrp                194241 non-null  object\n 11  product_detials    188126 non-null  object\n 12  set_product_price  194239 non-null  object\n 13  meta_data          88857 non-null   object\n 14  category           194241 non-null  object\n 15  product_code       189423 non-null  object\n 16  competitor         194241 non-null  object\ndtypes: object(17)\nmemory usage: 25.2+ MB\n",
          "output_type": "stream"
        }
      ]
    },
    {
      "cell_type": "markdown",
      "source": [
        "Смотрим размер датасета"
      ],
      "metadata": {
        "id": "p87MODueVCpG"
      }
    },
    {
      "cell_type": "code",
      "source": [
        "dataset.shape"
      ],
      "metadata": {
        "execution": {
          "iopub.status.busy": "2022-12-14T19:42:04.538071Z",
          "iopub.execute_input": "2022-12-14T19:42:04.538557Z",
          "iopub.status.idle": "2022-12-14T19:42:04.545290Z",
          "shell.execute_reply.started": "2022-12-14T19:42:04.538513Z",
          "shell.execute_reply": "2022-12-14T19:42:04.544095Z"
        },
        "trusted": true,
        "id": "P1XjjipkVCpG",
        "outputId": "5d824e6f-154c-4015-8625-c2ea40f984b7"
      },
      "execution_count": null,
      "outputs": [
        {
          "execution_count": 4,
          "output_type": "execute_result",
          "data": {
            "text/plain": "(194242, 17)"
          },
          "metadata": {}
        }
      ]
    },
    {
      "cell_type": "markdown",
      "source": [
        "Удаляем лишние столбцы, т. к. они имеют уникальные данные."
      ],
      "metadata": {
        "id": "0i_LMKjJVCpH"
      }
    },
    {
      "cell_type": "code",
      "source": [
        "data = dataset.drop(axis=1, index=None, columns=['uuid','date_stored', 'url', 'images', 'title', 'product_detials', 'product_code', 'meta_data', 'set_product_price'], inplace=False, errors='ignore')\n",
        "data.head()"
      ],
      "metadata": {
        "execution": {
          "iopub.status.busy": "2022-12-14T19:42:04.546729Z",
          "iopub.execute_input": "2022-12-14T19:42:04.547163Z",
          "iopub.status.idle": "2022-12-14T19:42:04.584502Z",
          "shell.execute_reply.started": "2022-12-14T19:42:04.547120Z",
          "shell.execute_reply": "2022-12-14T19:42:04.583238Z"
        },
        "trusted": true,
        "id": "_suySD4CVCpH",
        "outputId": "db122992-0975-4022-b865-456be75c20d3"
      },
      "execution_count": null,
      "outputs": [
        {
          "execution_count": 5,
          "output_type": "execute_result",
          "data": {
            "text/plain": "         brand selling_price star_rating                 size         colour  \\\n0         DNMX           624         0.0                  NaN  green,mustard   \n1      JUSTVVV           576         0.0                  NaN            NaN   \n2  HUNTERS BAY           909         0.0                  NaN            tan   \n3       VOOLKA           285         0.0                  NaN            NaN   \n4    Kangarooz           130         0.0  7/3, 8/3, 9/3, 10/3            NaN   \n\n    mrp              category   competitor  \n0  1299  Sweaters & Cardigans  Ajio-Trends  \n1  1499                Sarees       Ajio_b  \n2  1299          Casual Shoes  Ajio-Trends  \n3   560                Sarees       Ajio_b  \n4   499          men_Slippers       bijnis  ",
            "text/html": "<div>\n<style scoped>\n    .dataframe tbody tr th:only-of-type {\n        vertical-align: middle;\n    }\n\n    .dataframe tbody tr th {\n        vertical-align: top;\n    }\n\n    .dataframe thead th {\n        text-align: right;\n    }\n</style>\n<table border=\"1\" class=\"dataframe\">\n  <thead>\n    <tr style=\"text-align: right;\">\n      <th></th>\n      <th>brand</th>\n      <th>selling_price</th>\n      <th>star_rating</th>\n      <th>size</th>\n      <th>colour</th>\n      <th>mrp</th>\n      <th>category</th>\n      <th>competitor</th>\n    </tr>\n  </thead>\n  <tbody>\n    <tr>\n      <th>0</th>\n      <td>DNMX</td>\n      <td>624</td>\n      <td>0.0</td>\n      <td>NaN</td>\n      <td>green,mustard</td>\n      <td>1299</td>\n      <td>Sweaters &amp; Cardigans</td>\n      <td>Ajio-Trends</td>\n    </tr>\n    <tr>\n      <th>1</th>\n      <td>JUSTVVV</td>\n      <td>576</td>\n      <td>0.0</td>\n      <td>NaN</td>\n      <td>NaN</td>\n      <td>1499</td>\n      <td>Sarees</td>\n      <td>Ajio_b</td>\n    </tr>\n    <tr>\n      <th>2</th>\n      <td>HUNTERS BAY</td>\n      <td>909</td>\n      <td>0.0</td>\n      <td>NaN</td>\n      <td>tan</td>\n      <td>1299</td>\n      <td>Casual Shoes</td>\n      <td>Ajio-Trends</td>\n    </tr>\n    <tr>\n      <th>3</th>\n      <td>VOOLKA</td>\n      <td>285</td>\n      <td>0.0</td>\n      <td>NaN</td>\n      <td>NaN</td>\n      <td>560</td>\n      <td>Sarees</td>\n      <td>Ajio_b</td>\n    </tr>\n    <tr>\n      <th>4</th>\n      <td>Kangarooz</td>\n      <td>130</td>\n      <td>0.0</td>\n      <td>7/3, 8/3, 9/3, 10/3</td>\n      <td>NaN</td>\n      <td>499</td>\n      <td>men_Slippers</td>\n      <td>bijnis</td>\n    </tr>\n  </tbody>\n</table>\n</div>"
          },
          "metadata": {}
        }
      ]
    },
    {
      "cell_type": "markdown",
      "source": [
        "Проверяем на наличие NaN в датасете."
      ],
      "metadata": {
        "id": "FT2VkJjLVCpI"
      }
    },
    {
      "cell_type": "code",
      "source": [
        "data.isna()"
      ],
      "metadata": {
        "execution": {
          "iopub.status.busy": "2022-12-14T19:42:04.586024Z",
          "iopub.execute_input": "2022-12-14T19:42:04.586406Z",
          "iopub.status.idle": "2022-12-14T19:42:04.668660Z",
          "shell.execute_reply.started": "2022-12-14T19:42:04.586375Z",
          "shell.execute_reply": "2022-12-14T19:42:04.667623Z"
        },
        "trusted": true,
        "id": "lBzZHwQBVCpJ",
        "outputId": "dc427371-b443-44a8-d77a-753488bfe30c"
      },
      "execution_count": null,
      "outputs": [
        {
          "execution_count": 6,
          "output_type": "execute_result",
          "data": {
            "text/plain": "        brand  selling_price  star_rating   size  colour    mrp  category  \\\n0       False          False        False   True   False  False     False   \n1       False          False        False   True    True  False     False   \n2       False          False        False   True   False  False     False   \n3       False          False        False   True    True  False     False   \n4       False          False        False  False    True  False     False   \n...       ...            ...          ...    ...     ...    ...       ...   \n194237  False          False        False   True    True  False     False   \n194238  False          False        False   True    True  False     False   \n194239  False          False        False   True    True  False     False   \n194240  False          False        False   True    True  False     False   \n194241  False          False        False  False    True  False     False   \n\n        competitor  \n0            False  \n1            False  \n2            False  \n3            False  \n4            False  \n...            ...  \n194237       False  \n194238       False  \n194239       False  \n194240       False  \n194241       False  \n\n[194242 rows x 8 columns]",
            "text/html": "<div>\n<style scoped>\n    .dataframe tbody tr th:only-of-type {\n        vertical-align: middle;\n    }\n\n    .dataframe tbody tr th {\n        vertical-align: top;\n    }\n\n    .dataframe thead th {\n        text-align: right;\n    }\n</style>\n<table border=\"1\" class=\"dataframe\">\n  <thead>\n    <tr style=\"text-align: right;\">\n      <th></th>\n      <th>brand</th>\n      <th>selling_price</th>\n      <th>star_rating</th>\n      <th>size</th>\n      <th>colour</th>\n      <th>mrp</th>\n      <th>category</th>\n      <th>competitor</th>\n    </tr>\n  </thead>\n  <tbody>\n    <tr>\n      <th>0</th>\n      <td>False</td>\n      <td>False</td>\n      <td>False</td>\n      <td>True</td>\n      <td>False</td>\n      <td>False</td>\n      <td>False</td>\n      <td>False</td>\n    </tr>\n    <tr>\n      <th>1</th>\n      <td>False</td>\n      <td>False</td>\n      <td>False</td>\n      <td>True</td>\n      <td>True</td>\n      <td>False</td>\n      <td>False</td>\n      <td>False</td>\n    </tr>\n    <tr>\n      <th>2</th>\n      <td>False</td>\n      <td>False</td>\n      <td>False</td>\n      <td>True</td>\n      <td>False</td>\n      <td>False</td>\n      <td>False</td>\n      <td>False</td>\n    </tr>\n    <tr>\n      <th>3</th>\n      <td>False</td>\n      <td>False</td>\n      <td>False</td>\n      <td>True</td>\n      <td>True</td>\n      <td>False</td>\n      <td>False</td>\n      <td>False</td>\n    </tr>\n    <tr>\n      <th>4</th>\n      <td>False</td>\n      <td>False</td>\n      <td>False</td>\n      <td>False</td>\n      <td>True</td>\n      <td>False</td>\n      <td>False</td>\n      <td>False</td>\n    </tr>\n    <tr>\n      <th>...</th>\n      <td>...</td>\n      <td>...</td>\n      <td>...</td>\n      <td>...</td>\n      <td>...</td>\n      <td>...</td>\n      <td>...</td>\n      <td>...</td>\n    </tr>\n    <tr>\n      <th>194237</th>\n      <td>False</td>\n      <td>False</td>\n      <td>False</td>\n      <td>True</td>\n      <td>True</td>\n      <td>False</td>\n      <td>False</td>\n      <td>False</td>\n    </tr>\n    <tr>\n      <th>194238</th>\n      <td>False</td>\n      <td>False</td>\n      <td>False</td>\n      <td>True</td>\n      <td>True</td>\n      <td>False</td>\n      <td>False</td>\n      <td>False</td>\n    </tr>\n    <tr>\n      <th>194239</th>\n      <td>False</td>\n      <td>False</td>\n      <td>False</td>\n      <td>True</td>\n      <td>True</td>\n      <td>False</td>\n      <td>False</td>\n      <td>False</td>\n    </tr>\n    <tr>\n      <th>194240</th>\n      <td>False</td>\n      <td>False</td>\n      <td>False</td>\n      <td>True</td>\n      <td>True</td>\n      <td>False</td>\n      <td>False</td>\n      <td>False</td>\n    </tr>\n    <tr>\n      <th>194241</th>\n      <td>False</td>\n      <td>False</td>\n      <td>False</td>\n      <td>False</td>\n      <td>True</td>\n      <td>False</td>\n      <td>False</td>\n      <td>False</td>\n    </tr>\n  </tbody>\n</table>\n<p>194242 rows × 8 columns</p>\n</div>"
          },
          "metadata": {}
        }
      ]
    },
    {
      "cell_type": "markdown",
      "source": [
        "Смотрим сколько их в каждом столбце"
      ],
      "metadata": {
        "id": "EB7iDmXoVCpJ"
      }
    },
    {
      "cell_type": "code",
      "source": [
        "data.isna().sum()"
      ],
      "metadata": {
        "execution": {
          "iopub.status.busy": "2022-12-14T19:42:04.669917Z",
          "iopub.execute_input": "2022-12-14T19:42:04.670417Z",
          "iopub.status.idle": "2022-12-14T19:42:04.750862Z",
          "shell.execute_reply.started": "2022-12-14T19:42:04.670369Z",
          "shell.execute_reply": "2022-12-14T19:42:04.749549Z"
        },
        "trusted": true,
        "id": "KTcl1kN-VCpK",
        "outputId": "c2ca095c-f6c6-459b-a4af-96f5c39c9d17"
      },
      "execution_count": null,
      "outputs": [
        {
          "execution_count": 7,
          "output_type": "execute_result",
          "data": {
            "text/plain": "brand                 0\nselling_price         1\nstar_rating        1245\nsize             116478\ncolour           137508\nmrp                   1\ncategory              1\ncompetitor            1\ndtype: int64"
          },
          "metadata": {}
        }
      ]
    },
    {
      "cell_type": "markdown",
      "source": [
        "Удаляем все строчки с NaN и смотрим первые 5 строчек."
      ],
      "metadata": {
        "id": "YXE5QcEaVCpK"
      }
    },
    {
      "cell_type": "code",
      "source": [
        "data = data.dropna().reset_index(drop=True)\n",
        "data.head()"
      ],
      "metadata": {
        "execution": {
          "iopub.status.busy": "2022-12-14T19:42:04.752268Z",
          "iopub.execute_input": "2022-12-14T19:42:04.752950Z",
          "iopub.status.idle": "2022-12-14T19:42:04.856114Z",
          "shell.execute_reply.started": "2022-12-14T19:42:04.752918Z",
          "shell.execute_reply": "2022-12-14T19:42:04.854942Z"
        },
        "trusted": true,
        "id": "7phznlkDVCpK",
        "outputId": "9f2948a5-528f-40c5-aade-d230ed9caa6f"
      },
      "execution_count": null,
      "outputs": [
        {
          "execution_count": 8,
          "output_type": "execute_result",
          "data": {
            "text/plain": "                 brand selling_price star_rating                       size  \\\n0           KALAMANDIR           480         0.0                         FS   \n1  AVAASA MIX N' MATCH           458         0.0     XS , S , M , L ,XL,XXL   \n2            INDETHNIC          2438         0.0                         FS   \n3              JOMPERS           800         0.0               S,M,L,XL,XXL   \n4               FUSION           432         0.0   XS , S , M , L , XL ,XXL   \n\n                  colour   mrp              category   competitor  \n0                magenta  1199                Sarees         Ajio  \n1  maroon,navy,pink,grey   899  Sweaters & Cardigans  Ajio-Trends  \n2                  peach  3750                Sarees         Ajio  \n3                  peach  1999                Kurtas         Ajio  \n4               blue,red   899       Kurtis & Tunics  Ajio-Trends  ",
            "text/html": "<div>\n<style scoped>\n    .dataframe tbody tr th:only-of-type {\n        vertical-align: middle;\n    }\n\n    .dataframe tbody tr th {\n        vertical-align: top;\n    }\n\n    .dataframe thead th {\n        text-align: right;\n    }\n</style>\n<table border=\"1\" class=\"dataframe\">\n  <thead>\n    <tr style=\"text-align: right;\">\n      <th></th>\n      <th>brand</th>\n      <th>selling_price</th>\n      <th>star_rating</th>\n      <th>size</th>\n      <th>colour</th>\n      <th>mrp</th>\n      <th>category</th>\n      <th>competitor</th>\n    </tr>\n  </thead>\n  <tbody>\n    <tr>\n      <th>0</th>\n      <td>KALAMANDIR</td>\n      <td>480</td>\n      <td>0.0</td>\n      <td>FS</td>\n      <td>magenta</td>\n      <td>1199</td>\n      <td>Sarees</td>\n      <td>Ajio</td>\n    </tr>\n    <tr>\n      <th>1</th>\n      <td>AVAASA MIX N' MATCH</td>\n      <td>458</td>\n      <td>0.0</td>\n      <td>XS , S , M , L ,XL,XXL</td>\n      <td>maroon,navy,pink,grey</td>\n      <td>899</td>\n      <td>Sweaters &amp; Cardigans</td>\n      <td>Ajio-Trends</td>\n    </tr>\n    <tr>\n      <th>2</th>\n      <td>INDETHNIC</td>\n      <td>2438</td>\n      <td>0.0</td>\n      <td>FS</td>\n      <td>peach</td>\n      <td>3750</td>\n      <td>Sarees</td>\n      <td>Ajio</td>\n    </tr>\n    <tr>\n      <th>3</th>\n      <td>JOMPERS</td>\n      <td>800</td>\n      <td>0.0</td>\n      <td>S,M,L,XL,XXL</td>\n      <td>peach</td>\n      <td>1999</td>\n      <td>Kurtas</td>\n      <td>Ajio</td>\n    </tr>\n    <tr>\n      <th>4</th>\n      <td>FUSION</td>\n      <td>432</td>\n      <td>0.0</td>\n      <td>XS , S , M , L , XL ,XXL</td>\n      <td>blue,red</td>\n      <td>899</td>\n      <td>Kurtis &amp; Tunics</td>\n      <td>Ajio-Trends</td>\n    </tr>\n  </tbody>\n</table>\n</div>"
          },
          "metadata": {}
        }
      ]
    },
    {
      "cell_type": "markdown",
      "source": [
        "Смотрим получившийся размер датасета после очистки."
      ],
      "metadata": {
        "id": "H2vVW79DVCpL"
      }
    },
    {
      "cell_type": "code",
      "source": [
        "data.shape"
      ],
      "metadata": {
        "execution": {
          "iopub.status.busy": "2022-12-14T19:42:04.857908Z",
          "iopub.execute_input": "2022-12-14T19:42:04.858625Z",
          "iopub.status.idle": "2022-12-14T19:42:04.865989Z",
          "shell.execute_reply.started": "2022-12-14T19:42:04.858579Z",
          "shell.execute_reply": "2022-12-14T19:42:04.864670Z"
        },
        "trusted": true,
        "id": "7-LdNu_KVCpL",
        "outputId": "9d5fcd57-5dd4-4e84-e788-e729222cc779"
      },
      "execution_count": null,
      "outputs": [
        {
          "execution_count": 9,
          "output_type": "execute_result",
          "data": {
            "text/plain": "(41985, 8)"
          },
          "metadata": {}
        }
      ]
    },
    {
      "cell_type": "markdown",
      "source": [
        "Конвертируем столбцы из строк в нужные типы данных. И также обрабатываем NaN,\n",
        "возникшие после конвертации типов.\n",
        "Использую для конвертации интересную функцию не из курса, прочитала о ней на stackoverflow и разобралась, как её применить, вот через этот сайт.\n",
        "https://pandas.pydata.org/docs/reference/api/pandas.to_numeric.html"
      ],
      "metadata": {
        "id": "1iOcNCbmVCpM"
      }
    },
    {
      "cell_type": "code",
      "source": [
        "data['selling_price'] = pd.to_numeric(data['selling_price'],errors=\"coerce\")\n",
        "data['star_rating'] = pd.to_numeric(data['star_rating'],errors=\"coerce\")\n",
        "data['mrp'] = pd.to_numeric(data['mrp'],errors=\"coerce\")\n",
        "data.replace([np.inf, -np.inf], np.nan, inplace=True)\n",
        "data.fillna(0, inplace=True)"
      ],
      "metadata": {
        "execution": {
          "iopub.status.busy": "2022-12-14T19:42:04.870497Z",
          "iopub.execute_input": "2022-12-14T19:42:04.871132Z",
          "iopub.status.idle": "2022-12-14T19:42:04.966505Z",
          "shell.execute_reply.started": "2022-12-14T19:42:04.871099Z",
          "shell.execute_reply": "2022-12-14T19:42:04.965229Z"
        },
        "trusted": true,
        "id": "9L4Qw4HiVCpM"
      },
      "execution_count": null,
      "outputs": []
    },
    {
      "cell_type": "code",
      "source": [
        "data.info()"
      ],
      "metadata": {
        "execution": {
          "iopub.status.busy": "2022-12-14T19:42:04.970140Z",
          "iopub.execute_input": "2022-12-14T19:42:04.970503Z",
          "iopub.status.idle": "2022-12-14T19:42:04.995096Z",
          "shell.execute_reply.started": "2022-12-14T19:42:04.970473Z",
          "shell.execute_reply": "2022-12-14T19:42:04.993748Z"
        },
        "trusted": true,
        "id": "Z0GfM-6zVCpN",
        "outputId": "0e1a164c-cbd5-41a7-888c-4252c4a88fbb"
      },
      "execution_count": null,
      "outputs": [
        {
          "name": "stdout",
          "text": "<class 'pandas.core.frame.DataFrame'>\nRangeIndex: 41985 entries, 0 to 41984\nData columns (total 8 columns):\n #   Column         Non-Null Count  Dtype  \n---  ------         --------------  -----  \n 0   brand          41985 non-null  object \n 1   selling_price  41985 non-null  float64\n 2   star_rating    41985 non-null  float64\n 3   size           41985 non-null  object \n 4   colour         41985 non-null  object \n 5   mrp            41985 non-null  float64\n 6   category       41985 non-null  object \n 7   competitor     41985 non-null  object \ndtypes: float64(3), object(5)\nmemory usage: 2.6+ MB\n",
          "output_type": "stream"
        }
      ]
    },
    {
      "cell_type": "markdown",
      "source": [
        "Производим кодирование значений."
      ],
      "metadata": {
        "id": "ISXcZf4wVCpN"
      }
    },
    {
      "cell_type": "code",
      "source": [
        "lab = LabelEncoder()\n",
        "data['category'] = lab.fit_transform(data['category'])\n",
        "data['competitor'] = lab.fit_transform(data['competitor'])\n",
        "data['colour'] = lab.fit_transform(data['colour'])\n",
        "data['size'] = lab.fit_transform(data['size'])\n",
        "data['brand'] = lab.fit_transform(data['brand'])\n",
        "data.head()"
      ],
      "metadata": {
        "execution": {
          "iopub.status.busy": "2022-12-14T19:42:04.996485Z",
          "iopub.execute_input": "2022-12-14T19:42:04.996831Z",
          "iopub.status.idle": "2022-12-14T19:42:05.099565Z",
          "shell.execute_reply.started": "2022-12-14T19:42:04.996797Z",
          "shell.execute_reply": "2022-12-14T19:42:05.098472Z"
        },
        "trusted": true,
        "id": "2l225IsYVCpO",
        "outputId": "e98a782e-e2c5-410d-b61f-6dfeacab740d"
      },
      "execution_count": null,
      "outputs": [
        {
          "execution_count": 12,
          "output_type": "execute_result",
          "data": {
            "text/plain": "   brand  selling_price  star_rating  size  colour     mrp  category  \\\n0    671          480.0          0.0  2140    3199  1199.0        89   \n1    127          458.0          0.0   369    3328   899.0       111   \n2    584         2438.0          0.0  2140    4178  3750.0        89   \n3    647          800.0          0.0  2270    4178  1999.0        61   \n4    467          432.0          0.0   362    1670   899.0        63   \n\n   competitor  \n0           0  \n1           1  \n2           0  \n3           0  \n4           1  ",
            "text/html": "<div>\n<style scoped>\n    .dataframe tbody tr th:only-of-type {\n        vertical-align: middle;\n    }\n\n    .dataframe tbody tr th {\n        vertical-align: top;\n    }\n\n    .dataframe thead th {\n        text-align: right;\n    }\n</style>\n<table border=\"1\" class=\"dataframe\">\n  <thead>\n    <tr style=\"text-align: right;\">\n      <th></th>\n      <th>brand</th>\n      <th>selling_price</th>\n      <th>star_rating</th>\n      <th>size</th>\n      <th>colour</th>\n      <th>mrp</th>\n      <th>category</th>\n      <th>competitor</th>\n    </tr>\n  </thead>\n  <tbody>\n    <tr>\n      <th>0</th>\n      <td>671</td>\n      <td>480.0</td>\n      <td>0.0</td>\n      <td>2140</td>\n      <td>3199</td>\n      <td>1199.0</td>\n      <td>89</td>\n      <td>0</td>\n    </tr>\n    <tr>\n      <th>1</th>\n      <td>127</td>\n      <td>458.0</td>\n      <td>0.0</td>\n      <td>369</td>\n      <td>3328</td>\n      <td>899.0</td>\n      <td>111</td>\n      <td>1</td>\n    </tr>\n    <tr>\n      <th>2</th>\n      <td>584</td>\n      <td>2438.0</td>\n      <td>0.0</td>\n      <td>2140</td>\n      <td>4178</td>\n      <td>3750.0</td>\n      <td>89</td>\n      <td>0</td>\n    </tr>\n    <tr>\n      <th>3</th>\n      <td>647</td>\n      <td>800.0</td>\n      <td>0.0</td>\n      <td>2270</td>\n      <td>4178</td>\n      <td>1999.0</td>\n      <td>61</td>\n      <td>0</td>\n    </tr>\n    <tr>\n      <th>4</th>\n      <td>467</td>\n      <td>432.0</td>\n      <td>0.0</td>\n      <td>362</td>\n      <td>1670</td>\n      <td>899.0</td>\n      <td>63</td>\n      <td>1</td>\n    </tr>\n  </tbody>\n</table>\n</div>"
          },
          "metadata": {}
        }
      ]
    },
    {
      "cell_type": "markdown",
      "source": [
        "Дисперсия"
      ],
      "metadata": {
        "id": "nKRCadEtVCpO"
      }
    },
    {
      "cell_type": "code",
      "source": [
        "result = pd.DataFrame(data.groupby('competitor')['selling_price'].mean().reset_index())\n",
        "result"
      ],
      "metadata": {
        "execution": {
          "iopub.status.busy": "2022-12-14T19:42:05.101287Z",
          "iopub.execute_input": "2022-12-14T19:42:05.101607Z",
          "iopub.status.idle": "2022-12-14T19:42:05.116600Z",
          "shell.execute_reply.started": "2022-12-14T19:42:05.101578Z",
          "shell.execute_reply": "2022-12-14T19:42:05.115348Z"
        },
        "trusted": true,
        "id": "0nl72eOIVCpO",
        "outputId": "cd9a54a4-9dae-4667-d8c3-fbfbe45c3568"
      },
      "execution_count": null,
      "outputs": [
        {
          "execution_count": 13,
          "output_type": "execute_result",
          "data": {
            "text/plain": "   competitor  selling_price\n0           0    1575.471441\n1           1     519.851696\n2           2       0.000000\n3           3     287.132610",
            "text/html": "<div>\n<style scoped>\n    .dataframe tbody tr th:only-of-type {\n        vertical-align: middle;\n    }\n\n    .dataframe tbody tr th {\n        vertical-align: top;\n    }\n\n    .dataframe thead th {\n        text-align: right;\n    }\n</style>\n<table border=\"1\" class=\"dataframe\">\n  <thead>\n    <tr style=\"text-align: right;\">\n      <th></th>\n      <th>competitor</th>\n      <th>selling_price</th>\n    </tr>\n  </thead>\n  <tbody>\n    <tr>\n      <th>0</th>\n      <td>0</td>\n      <td>1575.471441</td>\n    </tr>\n    <tr>\n      <th>1</th>\n      <td>1</td>\n      <td>519.851696</td>\n    </tr>\n    <tr>\n      <th>2</th>\n      <td>2</td>\n      <td>0.000000</td>\n    </tr>\n    <tr>\n      <th>3</th>\n      <td>3</td>\n      <td>287.132610</td>\n    </tr>\n  </tbody>\n</table>\n</div>"
          },
          "metadata": {}
        }
      ]
    },
    {
      "cell_type": "code",
      "source": [
        "selling_mean = data['selling_price'].mean()\n",
        "selling_mean_deviation = data['selling_price'] - selling_mean\n",
        "sq_selling_mean_deviation = selling_mean_deviation ** 2\n",
        "variance_gen = sq_selling_mean_deviation.sum()/len(data['selling_price'])-1\n",
        "s_k_otkl = np.sqrt(variance_gen)\n",
        "print('Дисперсия =', variance_gen, 'Среднеквадратичное отклонение =', s_k_otkl)"
      ],
      "metadata": {
        "execution": {
          "iopub.status.busy": "2022-12-14T19:42:05.118300Z",
          "iopub.execute_input": "2022-12-14T19:42:05.118609Z",
          "iopub.status.idle": "2022-12-14T19:42:05.127578Z",
          "shell.execute_reply.started": "2022-12-14T19:42:05.118582Z",
          "shell.execute_reply": "2022-12-14T19:42:05.126198Z"
        },
        "trusted": true,
        "id": "ychkNrkzVCpP",
        "outputId": "05a40bd3-55f4-4394-c04a-8a60f8d24371"
      },
      "execution_count": null,
      "outputs": [
        {
          "name": "stdout",
          "text": "Дисперсия = 3342540.7647096673 Среднеквадратичное отклонение = 1828.261678401007\n",
          "output_type": "stream"
        }
      ]
    },
    {
      "cell_type": "code",
      "source": [
        "data.var()"
      ],
      "metadata": {
        "execution": {
          "iopub.status.busy": "2022-12-14T19:42:05.129471Z",
          "iopub.execute_input": "2022-12-14T19:42:05.129928Z",
          "iopub.status.idle": "2022-12-14T19:42:05.148639Z",
          "shell.execute_reply.started": "2022-12-14T19:42:05.129884Z",
          "shell.execute_reply": "2022-12-14T19:42:05.147470Z"
        },
        "trusted": true,
        "id": "gjZyMkTQVCpP",
        "outputId": "01d46cba-6c4c-4a58-91e3-317d4bb5e705"
      },
      "execution_count": null,
      "outputs": [
        {
          "execution_count": 15,
          "output_type": "execute_result",
          "data": {
            "text/plain": "brand            1.763573e+05\nselling_price    3.342621e+06\nstar_rating      6.518110e-01\nsize             6.594344e+05\ncolour           2.430684e+06\nmrp              6.750814e+06\ncategory         1.232448e+03\ncompetitor       5.524853e-01\ndtype: float64"
          },
          "metadata": {}
        }
      ]
    },
    {
      "cell_type": "markdown",
      "source": [
        "Получаем кросс кореляцию значений."
      ],
      "metadata": {
        "id": "wjYKaL1MVCpP"
      }
    },
    {
      "cell_type": "code",
      "source": [
        "data.corr()"
      ],
      "metadata": {
        "execution": {
          "iopub.status.busy": "2022-12-14T19:42:05.150055Z",
          "iopub.execute_input": "2022-12-14T19:42:05.151146Z",
          "iopub.status.idle": "2022-12-14T19:42:05.185093Z",
          "shell.execute_reply.started": "2022-12-14T19:42:05.151101Z",
          "shell.execute_reply": "2022-12-14T19:42:05.183757Z"
        },
        "trusted": true,
        "id": "hbCjOM30VCpQ",
        "outputId": "dcb8aa88-426d-4252-89d7-c4430908b726"
      },
      "execution_count": null,
      "outputs": [
        {
          "execution_count": 16,
          "output_type": "execute_result",
          "data": {
            "text/plain": "                  brand  selling_price  star_rating      size    colour  \\\nbrand          1.000000       0.076806     0.047883  0.144444  0.015302   \nselling_price  0.076806       1.000000    -0.109377  0.143464  0.051690   \nstar_rating    0.047883      -0.109377     1.000000  0.139398 -0.372180   \nsize           0.144444       0.143464     0.139398  1.000000  0.004962   \ncolour         0.015302       0.051690    -0.372180  0.004962  1.000000   \nmrp            0.095916       0.875344    -0.116409  0.234089  0.072431   \ncategory       0.079376      -0.057178     0.344342  0.143678 -0.089382   \ncompetitor    -0.058460      -0.253338     0.776875 -0.316936 -0.320143   \n\n                    mrp  category  competitor  \nbrand          0.095916  0.079376   -0.058460  \nselling_price  0.875344 -0.057178   -0.253338  \nstar_rating   -0.116409  0.344342    0.776875  \nsize           0.234089  0.143678   -0.316936  \ncolour         0.072431 -0.089382   -0.320143  \nmrp            1.000000 -0.043204   -0.327878  \ncategory      -0.043204  1.000000    0.244280  \ncompetitor    -0.327878  0.244280    1.000000  ",
            "text/html": "<div>\n<style scoped>\n    .dataframe tbody tr th:only-of-type {\n        vertical-align: middle;\n    }\n\n    .dataframe tbody tr th {\n        vertical-align: top;\n    }\n\n    .dataframe thead th {\n        text-align: right;\n    }\n</style>\n<table border=\"1\" class=\"dataframe\">\n  <thead>\n    <tr style=\"text-align: right;\">\n      <th></th>\n      <th>brand</th>\n      <th>selling_price</th>\n      <th>star_rating</th>\n      <th>size</th>\n      <th>colour</th>\n      <th>mrp</th>\n      <th>category</th>\n      <th>competitor</th>\n    </tr>\n  </thead>\n  <tbody>\n    <tr>\n      <th>brand</th>\n      <td>1.000000</td>\n      <td>0.076806</td>\n      <td>0.047883</td>\n      <td>0.144444</td>\n      <td>0.015302</td>\n      <td>0.095916</td>\n      <td>0.079376</td>\n      <td>-0.058460</td>\n    </tr>\n    <tr>\n      <th>selling_price</th>\n      <td>0.076806</td>\n      <td>1.000000</td>\n      <td>-0.109377</td>\n      <td>0.143464</td>\n      <td>0.051690</td>\n      <td>0.875344</td>\n      <td>-0.057178</td>\n      <td>-0.253338</td>\n    </tr>\n    <tr>\n      <th>star_rating</th>\n      <td>0.047883</td>\n      <td>-0.109377</td>\n      <td>1.000000</td>\n      <td>0.139398</td>\n      <td>-0.372180</td>\n      <td>-0.116409</td>\n      <td>0.344342</td>\n      <td>0.776875</td>\n    </tr>\n    <tr>\n      <th>size</th>\n      <td>0.144444</td>\n      <td>0.143464</td>\n      <td>0.139398</td>\n      <td>1.000000</td>\n      <td>0.004962</td>\n      <td>0.234089</td>\n      <td>0.143678</td>\n      <td>-0.316936</td>\n    </tr>\n    <tr>\n      <th>colour</th>\n      <td>0.015302</td>\n      <td>0.051690</td>\n      <td>-0.372180</td>\n      <td>0.004962</td>\n      <td>1.000000</td>\n      <td>0.072431</td>\n      <td>-0.089382</td>\n      <td>-0.320143</td>\n    </tr>\n    <tr>\n      <th>mrp</th>\n      <td>0.095916</td>\n      <td>0.875344</td>\n      <td>-0.116409</td>\n      <td>0.234089</td>\n      <td>0.072431</td>\n      <td>1.000000</td>\n      <td>-0.043204</td>\n      <td>-0.327878</td>\n    </tr>\n    <tr>\n      <th>category</th>\n      <td>0.079376</td>\n      <td>-0.057178</td>\n      <td>0.344342</td>\n      <td>0.143678</td>\n      <td>-0.089382</td>\n      <td>-0.043204</td>\n      <td>1.000000</td>\n      <td>0.244280</td>\n    </tr>\n    <tr>\n      <th>competitor</th>\n      <td>-0.058460</td>\n      <td>-0.253338</td>\n      <td>0.776875</td>\n      <td>-0.316936</td>\n      <td>-0.320143</td>\n      <td>-0.327878</td>\n      <td>0.244280</td>\n      <td>1.000000</td>\n    </tr>\n  </tbody>\n</table>\n</div>"
          },
          "metadata": {}
        }
      ]
    },
    {
      "cell_type": "markdown",
      "source": [
        "Из таблицы видно, что selling_price хорошо коррелирует с mrp, size, colour, brand."
      ],
      "metadata": {
        "id": "BarbvADIVCpQ"
      }
    },
    {
      "cell_type": "markdown",
      "source": [
        "Смотрим на уникальные значения и по результатам выбираем переменную по которой будем группировать датасет."
      ],
      "metadata": {
        "id": "1oyYJmX7VCpQ"
      }
    },
    {
      "cell_type": "code",
      "source": [
        "data.nunique()"
      ],
      "metadata": {
        "execution": {
          "iopub.status.busy": "2022-12-14T19:42:05.187343Z",
          "iopub.execute_input": "2022-12-14T19:42:05.187795Z",
          "iopub.status.idle": "2022-12-14T19:42:05.205807Z",
          "shell.execute_reply.started": "2022-12-14T19:42:05.187751Z",
          "shell.execute_reply": "2022-12-14T19:42:05.204588Z"
        },
        "trusted": true,
        "id": "68eG3brpVCpR",
        "outputId": "45ad50a2-701a-4914-c30f-46f4d5fed00d"
      },
      "execution_count": null,
      "outputs": [
        {
          "execution_count": 17,
          "output_type": "execute_result",
          "data": {
            "text/plain": "brand            1452\nselling_price    2844\nstar_rating        27\nsize             2509\ncolour           5789\nmrp              1788\ncategory          134\ncompetitor          4\ndtype: int64"
          },
          "metadata": {}
        }
      ]
    },
    {
      "cell_type": "code",
      "source": [
        "data['competitor'].unique()"
      ],
      "metadata": {
        "execution": {
          "iopub.status.busy": "2022-12-14T19:42:05.207360Z",
          "iopub.execute_input": "2022-12-14T19:42:05.208417Z",
          "iopub.status.idle": "2022-12-14T19:42:05.216837Z",
          "shell.execute_reply.started": "2022-12-14T19:42:05.208370Z",
          "shell.execute_reply": "2022-12-14T19:42:05.215535Z"
        },
        "trusted": true,
        "id": "41bNMdLDVCpR",
        "outputId": "be883de9-42c6-4a7f-fb1c-641a7eb132c9"
      },
      "execution_count": null,
      "outputs": [
        {
          "execution_count": 18,
          "output_type": "execute_result",
          "data": {
            "text/plain": "array([0, 1, 3, 2])"
          },
          "metadata": {}
        }
      ]
    },
    {
      "cell_type": "markdown",
      "source": [
        "Разбиваем датасет на две группы и вычисляем оценку для целевой переменной"
      ],
      "metadata": {
        "id": "VXH6wcCeVCpR"
      }
    },
    {
      "cell_type": "code",
      "source": [
        "group1 = data[data['competitor']==1]\n",
        "group2 = data[data['competitor']==3]\n",
        "stats.ttest_ind(group1['selling_price'], group2['selling_price'])"
      ],
      "metadata": {
        "execution": {
          "iopub.status.busy": "2022-12-14T19:42:05.218582Z",
          "iopub.execute_input": "2022-12-14T19:42:05.219100Z",
          "iopub.status.idle": "2022-12-14T19:42:05.240740Z",
          "shell.execute_reply.started": "2022-12-14T19:42:05.219058Z",
          "shell.execute_reply": "2022-12-14T19:42:05.239461Z"
        },
        "trusted": true,
        "id": "D2tXjBmcVCpR",
        "outputId": "e8f723f1-33e8-4ea2-8a41-5c0f92e5d9c9"
      },
      "execution_count": null,
      "outputs": [
        {
          "execution_count": 19,
          "output_type": "execute_result",
          "data": {
            "text/plain": "Ttest_indResult(statistic=17.132278474446892, pvalue=3.275892692880483e-65)"
          },
          "metadata": {}
        }
      ]
    },
    {
      "cell_type": "markdown",
      "source": [
        "Т. к. p < 0.05, отклоняем гипотезу и делаем вывод что разные типы параметра comptetitor приводят к разным результатам."
      ],
      "metadata": {
        "id": "PWQWaxrtVCpS"
      }
    },
    {
      "cell_type": "markdown",
      "source": [
        "Рассмотрим хи квадрат для бренда"
      ],
      "metadata": {
        "id": "bLhkMvIfVCpS"
      }
    },
    {
      "cell_type": "code",
      "source": [
        "l = np.mean(data['brand'])\n",
        "observed_frequences = np.bincount(data['brand'])\n",
        "expected_frequences = [len(data['brand'])*stats.poisson.pmf(x, l) for x in range(min(data['brand']), max(data['brand']) + 1)]\n",
        "stats.chisquare(observed_frequences, expected_frequences, ddof = 1)"
      ],
      "metadata": {
        "execution": {
          "iopub.status.busy": "2022-12-14T19:42:05.242061Z",
          "iopub.execute_input": "2022-12-14T19:42:05.242425Z",
          "iopub.status.idle": "2022-12-14T19:42:05.403088Z",
          "shell.execute_reply.started": "2022-12-14T19:42:05.242393Z",
          "shell.execute_reply": "2022-12-14T19:42:05.401960Z"
        },
        "trusted": true,
        "id": "ntfnHaaDVCpS",
        "outputId": "a9fd4580-aada-4947-acfd-753a8da1de17"
      },
      "execution_count": null,
      "outputs": [
        {
          "execution_count": 20,
          "output_type": "execute_result",
          "data": {
            "text/plain": "Power_divergenceResult(statistic=4.927631591815925e+305, pvalue=0.0)"
          },
          "metadata": {}
        }
      ]
    },
    {
      "cell_type": "markdown",
      "source": [
        "Визуализируем кореляцию переменных"
      ],
      "metadata": {
        "id": "loLYM4RqVCpT"
      }
    },
    {
      "cell_type": "code",
      "source": [
        "zscores = stats.zscore(data['selling_price'], axis=0, ddof=0, nan_policy='propagate')\n",
        "plt.plot(zscores)"
      ],
      "metadata": {
        "execution": {
          "iopub.status.busy": "2022-12-14T19:42:05.404651Z",
          "iopub.execute_input": "2022-12-14T19:42:05.404999Z",
          "iopub.status.idle": "2022-12-14T19:42:05.570261Z",
          "shell.execute_reply.started": "2022-12-14T19:42:05.404969Z",
          "shell.execute_reply": "2022-12-14T19:42:05.568929Z"
        },
        "trusted": true,
        "id": "X9PFjn2pVCpT",
        "outputId": "432ebdd1-3ee2-41d7-88eb-9db6bce634cc"
      },
      "execution_count": null,
      "outputs": [
        {
          "execution_count": 21,
          "output_type": "execute_result",
          "data": {
            "text/plain": "[<matplotlib.lines.Line2D at 0x7f43a4dbb210>]"
          },
          "metadata": {}
        }
      ]
    },
    {
      "cell_type": "markdown",
      "source": [
        "Строим график зависимости определенных параметров."
      ],
      "metadata": {
        "id": "4ODFhktHVCpT"
      }
    },
    {
      "cell_type": "code",
      "source": [
        "data.plot(x=\"selling_price\", y=[\"mrp\", \"size\", \"colour\", \"brand\"])"
      ],
      "metadata": {
        "execution": {
          "iopub.status.busy": "2022-12-14T19:42:05.571893Z",
          "iopub.execute_input": "2022-12-14T19:42:05.572257Z",
          "iopub.status.idle": "2022-12-14T19:42:06.213954Z",
          "shell.execute_reply.started": "2022-12-14T19:42:05.572218Z",
          "shell.execute_reply": "2022-12-14T19:42:06.212762Z"
        },
        "trusted": true,
        "id": "3LkzmpUgVCpU",
        "outputId": "7e2ab2c7-a17b-4715-acd5-edd20c1b8288"
      },
      "execution_count": null,
      "outputs": [
        {
          "execution_count": 22,
          "output_type": "execute_result",
          "data": {
            "text/plain": "<AxesSubplot:xlabel='selling_price'>"
          },
          "metadata": {}
        }
      ]
    },
    {
      "cell_type": "markdown",
      "source": [
        "Подготавливаем датасет для обучения."
      ],
      "metadata": {
        "id": "_FzcLtROVCpU"
      }
    },
    {
      "cell_type": "code",
      "source": [
        "#df_shuffled = shuffle(data, random_state=123)\n",
        "X = data.drop(columns='selling_price')\n",
        "Y = data[\"selling_price\"]\n",
        "X_train,X_test,y_train,y_test = train_test_split(X,Y,test_size=0.3,random_state=0) \n",
        "scaler = preprocessing.StandardScaler().fit(X_train)\n",
        "X_train = scaler.transform(X_train)\n",
        "X_test = scaler.transform(X_test)"
      ],
      "metadata": {
        "execution": {
          "iopub.status.busy": "2022-12-14T19:42:06.215752Z",
          "iopub.execute_input": "2022-12-14T19:42:06.216519Z",
          "iopub.status.idle": "2022-12-14T19:42:06.245467Z",
          "shell.execute_reply.started": "2022-12-14T19:42:06.216483Z",
          "shell.execute_reply": "2022-12-14T19:42:06.244299Z"
        },
        "trusted": true,
        "id": "GyFxBBoRVCpU"
      },
      "execution_count": null,
      "outputs": []
    },
    {
      "cell_type": "markdown",
      "source": [
        "Обучаем линейную регрессию и получаем оценку предсказания модели."
      ],
      "metadata": {
        "id": "joo1YwkbVCpU"
      }
    },
    {
      "cell_type": "code",
      "source": [
        "model = LinearRegression().fit(X_train,y_train)\n",
        "r_sq = model.score(X_test, y_test)\n",
        "print('coefficient of determination:', np.exp(r_sq))"
      ],
      "metadata": {
        "execution": {
          "iopub.status.busy": "2022-12-14T19:42:06.247151Z",
          "iopub.execute_input": "2022-12-14T19:42:06.247612Z",
          "iopub.status.idle": "2022-12-14T19:42:06.271054Z",
          "shell.execute_reply.started": "2022-12-14T19:42:06.247579Z",
          "shell.execute_reply": "2022-12-14T19:42:06.269844Z"
        },
        "trusted": true,
        "id": "tvh8dKfbVCpV",
        "outputId": "b0532ebb-1169-47af-e2b6-29f5363a4ff3"
      },
      "execution_count": null,
      "outputs": [
        {
          "name": "stdout",
          "text": "coefficient of determination: 2.222985190728551\n",
          "output_type": "stream"
        }
      ]
    },
    {
      "cell_type": "markdown",
      "source": [
        "Обучаем логистическую регрессию и получаем оценку предсказания модели."
      ],
      "metadata": {
        "id": "xvzQwT63VCpV"
      }
    },
    {
      "cell_type": "code",
      "source": [
        "model2 = LogisticRegression(solver='liblinear',max_iter=10).fit(X_train,y_train)\n",
        "y_pred = model2.predict(X_test)\n",
        "print(\"Accuracy:\",metrics.accuracy_score(y_test, y_pred))"
      ],
      "metadata": {
        "execution": {
          "iopub.status.busy": "2022-12-14T19:42:06.272525Z",
          "iopub.execute_input": "2022-12-14T19:42:06.274013Z",
          "iopub.status.idle": "2022-12-14T19:45:30.658380Z",
          "shell.execute_reply.started": "2022-12-14T19:42:06.273969Z",
          "shell.execute_reply": "2022-12-14T19:45:30.657153Z"
        },
        "trusted": true,
        "id": "5WrGEHkLVCpV",
        "outputId": "9b51543b-a8b1-4f8f-8eb3-e11695572e77"
      },
      "execution_count": null,
      "outputs": [
        {
          "name": "stderr",
          "text": "/opt/conda/lib/python3.7/site-packages/sklearn/svm/_base.py:1208: ConvergenceWarning: Liblinear failed to converge, increase the number of iterations.\n  ConvergenceWarning,\n",
          "output_type": "stream"
        },
        {
          "name": "stdout",
          "text": "Accuracy: 0.17561130517624643\n",
          "output_type": "stream"
        }
      ]
    }
  ]
}